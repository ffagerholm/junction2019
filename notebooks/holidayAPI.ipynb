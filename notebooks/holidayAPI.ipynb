{
 "cells": [
  {
   "cell_type": "markdown",
   "metadata": {},
   "source": [
    "## Holidays\n",
    "https://public-apis.xyz/calendarific-8140 "
   ]
  },
  {
   "cell_type": "code",
   "execution_count": 184,
   "metadata": {},
   "outputs": [],
   "source": [
    "import os \n",
    "import requests\n",
    "import json \n",
    "import pandas as pd\n",
    "\n",
    "from dotenv import load_dotenv, find_dotenv\n",
    "assert load_dotenv(find_dotenv())"
   ]
  },
  {
   "cell_type": "code",
   "execution_count": 28,
   "metadata": {},
   "outputs": [],
   "source": [
    "def write_holiday(country, year):\n",
    "    url = 'https://calendarific.com/api/v2/holidays?&api_key={}&country={}&year={}'.format(os.environ[\"CALENDARIFIC_KEY\"], country, year)\n",
    "    headers = {'Accept': 'application/json'}\n",
    "    #auth = ('username', 'userpass')\n",
    "    response = requests.get(url, headers=headers)\n",
    "    print(\"Writing with status: {}\".format(response.status_code))\n",
    "    \n",
    "    with open('../data/external/holidays/holiday_{}{}.json'.format(country, year), 'w') as outf:\n",
    "        outf.write(response.text)"
   ]
  },
  {
   "cell_type": "code",
   "execution_count": 26,
   "metadata": {},
   "outputs": [
    {
     "name": "stdout",
     "output_type": "stream",
     "text": [
      "Writing with status: 200\n",
      "Writing with status: 200\n",
      "Writing with status: 200\n",
      "Writing with status: 200\n",
      "Writing with status: 200\n",
      "Writing with status: 200\n",
      "Writing with status: 200\n",
      "Writing with status: 200\n",
      "Writing with status: 200\n",
      "Writing with status: 200\n",
      "Writing with status: 200\n",
      "Writing with status: 200\n",
      "Writing with status: 200\n",
      "Writing with status: 200\n",
      "Writing with status: 200\n",
      "Writing with status: 200\n",
      "Writing with status: 200\n",
      "Writing with status: 200\n"
     ]
    }
   ],
   "source": [
    "country_codes = {\n",
    "    'Finland': 'fi',\n",
    "    'China': 'cn',\n",
    "    'Sweden': 'se',\n",
    "    'Russia': 'ru',\n",
    "    'Germany': 'de',\n",
    "    'UnitedKingdoms': 'gb'\n",
    "}\n",
    "\n",
    "years = ['2017', '2018', '2019']\n",
    "countries = ['fi','cn', 'se', 'ru', 'de', 'gb']\n",
    "\n",
    "for year in years: \n",
    "    for country in countries: \n",
    "        write_holiday(country, year)"
   ]
  },
  {
   "cell_type": "markdown",
   "metadata": {},
   "source": [
    "## Clean and write to csv "
   ]
  },
  {
   "cell_type": "code",
   "execution_count": 175,
   "metadata": {},
   "outputs": [],
   "source": [
    "types = pd.Series()\n",
    "\n",
    "flatten = lambda l: [item for sublist in l for item in sublist]\n",
    "\n",
    "for country in countries:\n",
    "    for year in years:\n",
    "        with open('../data/external/holidays/holiday_{}{}.json'.format(country, year)) as f:\n",
    "            data = json.load(f)\n",
    "\n",
    "            holidays = []\n",
    "            for holiday in data['response']['holidays']:\n",
    "                holidays.append([holiday['date']['iso'], holiday['type'][0], country])\n",
    "            types = types.append(pd.Series(holidays))"
   ]
  },
  {
   "cell_type": "code",
   "execution_count": 176,
   "metadata": {},
   "outputs": [
    {
     "name": "stderr",
     "output_type": "stream",
     "text": [
      "/Users/henriksoderberg/opt/miniconda3/envs/junc/lib/python3.7/site-packages/ipykernel_launcher.py:1: FutureWarning: from_items is deprecated. Please use DataFrame.from_dict(dict(items), ...) instead. DataFrame.from_dict(OrderedDict(items)) may be used to preserve the key order.\n",
      "  \"\"\"Entry point for launching an IPython kernel.\n"
     ]
    }
   ],
   "source": [
    "df_holidays = pd.DataFrame.from_items(zip(types.index, types.values)).T\n",
    "df_holidays = df_holidays.rename(columns={0: \"Date\", 1: \"Type\", 2: 'Country'})"
   ]
  },
  {
   "cell_type": "code",
   "execution_count": 126,
   "metadata": {},
   "outputs": [
    {
     "name": "stdout",
     "output_type": "stream",
     "text": [
      "{0: 'National holiday', 1: 'Observance', 2: 'Season', 3: 'Common local holiday', 4: 'Weekend', 5: 'Clock change/Daylight Saving Time', 6: 'Muslim', 7: 'Christian', 8: 'Local holiday', 9: 'Hebrew', 10: 'Orthodox', 11: 'Local observance', 12: 'Hinduism'}\n",
      "{'National holiday': 0, 'Observance': 1, 'Season': 2, 'Common local holiday': 3, 'Weekend': 4, 'Clock change/Daylight Saving Time': 5, 'Muslim': 6, 'Christian': 7, 'Local holiday': 8, 'Hebrew': 9, 'Orthodox': 10, 'Local observance': 11, 'Hinduism': 12}\n"
     ]
    }
   ],
   "source": [
    "# Indices for the holidays to be able to pivot \n",
    "num_holiday = dict()\n",
    "holiday_num = dict()\n",
    "for i, hol in enumerate(list(df_holidays['Type'].unique())):\n",
    "    num_holiday[i] = hol\n",
    "    holiday_num[hol] = i\n",
    "\n",
    "print(num_holiday)\n",
    "print(holiday_num)"
   ]
  },
  {
   "cell_type": "code",
   "execution_count": 177,
   "metadata": {},
   "outputs": [],
   "source": [
    "df_holidays['Type'] = df_holidays['Type'].replace(holiday_num)"
   ]
  },
  {
   "cell_type": "code",
   "execution_count": 178,
   "metadata": {},
   "outputs": [],
   "source": [
    "date_types = pd.pivot_table(df_holidays, index='Date',values='Type',columns='Country', aggfunc='sum')"
   ]
  },
  {
   "cell_type": "code",
   "execution_count": 179,
   "metadata": {},
   "outputs": [],
   "source": [
    "date_types = date_types.reset_index()\n",
    "date_types = date_types.replace(num_holiday)"
   ]
  },
  {
   "cell_type": "code",
   "execution_count": 180,
   "metadata": {},
   "outputs": [
    {
     "data": {
      "text/html": [
       "<div>\n",
       "<style scoped>\n",
       "    .dataframe tbody tr th:only-of-type {\n",
       "        vertical-align: middle;\n",
       "    }\n",
       "\n",
       "    .dataframe tbody tr th {\n",
       "        vertical-align: top;\n",
       "    }\n",
       "\n",
       "    .dataframe thead th {\n",
       "        text-align: right;\n",
       "    }\n",
       "</style>\n",
       "<table border=\"1\" class=\"dataframe\">\n",
       "  <thead>\n",
       "    <tr style=\"text-align: right;\">\n",
       "      <th>Country</th>\n",
       "      <th>Date</th>\n",
       "      <th>cn</th>\n",
       "      <th>de</th>\n",
       "      <th>fi</th>\n",
       "      <th>gb</th>\n",
       "      <th>ru</th>\n",
       "      <th>se</th>\n",
       "    </tr>\n",
       "  </thead>\n",
       "  <tbody>\n",
       "    <tr>\n",
       "      <th>0</th>\n",
       "      <td>2017-01-01</td>\n",
       "      <td>National holiday</td>\n",
       "      <td>National holiday</td>\n",
       "      <td>National holiday</td>\n",
       "      <td>Hebrew</td>\n",
       "      <td>National holiday</td>\n",
       "      <td>National holiday</td>\n",
       "    </tr>\n",
       "    <tr>\n",
       "      <th>1</th>\n",
       "      <td>2017-01-02</td>\n",
       "      <td>Common local holiday</td>\n",
       "      <td>NaN</td>\n",
       "      <td>NaN</td>\n",
       "      <td>National holiday</td>\n",
       "      <td>National holiday</td>\n",
       "      <td>NaN</td>\n",
       "    </tr>\n",
       "    <tr>\n",
       "      <th>2</th>\n",
       "      <td>2017-01-03</td>\n",
       "      <td>NaN</td>\n",
       "      <td>NaN</td>\n",
       "      <td>NaN</td>\n",
       "      <td>Local holiday</td>\n",
       "      <td>National holiday</td>\n",
       "      <td>NaN</td>\n",
       "    </tr>\n",
       "    <tr>\n",
       "      <th>3</th>\n",
       "      <td>2017-01-04</td>\n",
       "      <td>NaN</td>\n",
       "      <td>NaN</td>\n",
       "      <td>NaN</td>\n",
       "      <td>NaN</td>\n",
       "      <td>National holiday</td>\n",
       "      <td>NaN</td>\n",
       "    </tr>\n",
       "    <tr>\n",
       "      <th>4</th>\n",
       "      <td>2017-01-05</td>\n",
       "      <td>NaN</td>\n",
       "      <td>NaN</td>\n",
       "      <td>NaN</td>\n",
       "      <td>NaN</td>\n",
       "      <td>National holiday</td>\n",
       "      <td>Observance</td>\n",
       "    </tr>\n",
       "    <tr>\n",
       "      <th>...</th>\n",
       "      <td>...</td>\n",
       "      <td>...</td>\n",
       "      <td>...</td>\n",
       "      <td>...</td>\n",
       "      <td>...</td>\n",
       "      <td>...</td>\n",
       "      <td>...</td>\n",
       "    </tr>\n",
       "    <tr>\n",
       "      <th>495</th>\n",
       "      <td>2019-12-24</td>\n",
       "      <td>NaN</td>\n",
       "      <td>Observance</td>\n",
       "      <td>Observance</td>\n",
       "      <td>Observance</td>\n",
       "      <td>NaN</td>\n",
       "      <td>Observance</td>\n",
       "    </tr>\n",
       "    <tr>\n",
       "      <th>496</th>\n",
       "      <td>2019-12-25</td>\n",
       "      <td>Observance</td>\n",
       "      <td>National holiday</td>\n",
       "      <td>National holiday</td>\n",
       "      <td>National holiday</td>\n",
       "      <td>NaN</td>\n",
       "      <td>National holiday</td>\n",
       "    </tr>\n",
       "    <tr>\n",
       "      <th>497</th>\n",
       "      <td>2019-12-26</td>\n",
       "      <td>NaN</td>\n",
       "      <td>National holiday</td>\n",
       "      <td>National holiday</td>\n",
       "      <td>National holiday</td>\n",
       "      <td>NaN</td>\n",
       "      <td>National holiday</td>\n",
       "    </tr>\n",
       "    <tr>\n",
       "      <th>498</th>\n",
       "      <td>2019-12-30</td>\n",
       "      <td>NaN</td>\n",
       "      <td>NaN</td>\n",
       "      <td>NaN</td>\n",
       "      <td>Hebrew</td>\n",
       "      <td>NaN</td>\n",
       "      <td>NaN</td>\n",
       "    </tr>\n",
       "    <tr>\n",
       "      <th>499</th>\n",
       "      <td>2019-12-31</td>\n",
       "      <td>NaN</td>\n",
       "      <td>Observance</td>\n",
       "      <td>NaN</td>\n",
       "      <td>Observance</td>\n",
       "      <td>NaN</td>\n",
       "      <td>Observance</td>\n",
       "    </tr>\n",
       "  </tbody>\n",
       "</table>\n",
       "<p>500 rows × 7 columns</p>\n",
       "</div>"
      ],
      "text/plain": [
       "Country        Date                    cn                de                fi  \\\n",
       "0        2017-01-01      National holiday  National holiday  National holiday   \n",
       "1        2017-01-02  Common local holiday               NaN               NaN   \n",
       "2        2017-01-03                   NaN               NaN               NaN   \n",
       "3        2017-01-04                   NaN               NaN               NaN   \n",
       "4        2017-01-05                   NaN               NaN               NaN   \n",
       "..              ...                   ...               ...               ...   \n",
       "495      2019-12-24                   NaN        Observance        Observance   \n",
       "496      2019-12-25            Observance  National holiday  National holiday   \n",
       "497      2019-12-26                   NaN  National holiday  National holiday   \n",
       "498      2019-12-30                   NaN               NaN               NaN   \n",
       "499      2019-12-31                   NaN        Observance               NaN   \n",
       "\n",
       "Country                gb                ru                se  \n",
       "0                  Hebrew  National holiday  National holiday  \n",
       "1        National holiday  National holiday               NaN  \n",
       "2           Local holiday  National holiday               NaN  \n",
       "3                     NaN  National holiday               NaN  \n",
       "4                     NaN  National holiday        Observance  \n",
       "..                    ...               ...               ...  \n",
       "495            Observance               NaN        Observance  \n",
       "496      National holiday               NaN  National holiday  \n",
       "497      National holiday               NaN  National holiday  \n",
       "498                Hebrew               NaN               NaN  \n",
       "499            Observance               NaN        Observance  \n",
       "\n",
       "[500 rows x 7 columns]"
      ]
     },
     "execution_count": 180,
     "metadata": {},
     "output_type": "execute_result"
    }
   ],
   "source": [
    "date_types"
   ]
  },
  {
   "cell_type": "code",
   "execution_count": 182,
   "metadata": {},
   "outputs": [],
   "source": [
    "date_types.to_csv('../data/processed/holidays.csv')"
   ]
  },
  {
   "cell_type": "code",
   "execution_count": null,
   "metadata": {},
   "outputs": [],
   "source": []
  },
  {
   "cell_type": "code",
   "execution_count": null,
   "metadata": {},
   "outputs": [],
   "source": []
  }
 ],
 "metadata": {
  "kernelspec": {
   "display_name": "Python [conda env:junc] *",
   "language": "python",
   "name": "conda-env-junc-py"
  },
  "language_info": {
   "codemirror_mode": {
    "name": "ipython",
    "version": 3
   },
   "file_extension": ".py",
   "mimetype": "text/x-python",
   "name": "python",
   "nbconvert_exporter": "python",
   "pygments_lexer": "ipython3",
   "version": "3.7.5"
  }
 },
 "nbformat": 4,
 "nbformat_minor": 2
}
